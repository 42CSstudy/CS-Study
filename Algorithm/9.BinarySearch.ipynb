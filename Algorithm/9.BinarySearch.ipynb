{
 "cells": [
  {
   "cell_type": "markdown",
   "metadata": {
    "id": "eqK6nqtVYisA"
   },
   "source": [
    "# 1. 이진 탐색 Binary Search "
   ]
  },
  {
   "cell_type": "markdown",
   "metadata": {
    "id": "b41ZSy1PYquR"
   },
   "source": [
    "* 탐색할 자료를 둘로 나누어 해당 데이터가 있을만한 곳을 탐색하는 방법 "
   ]
  },
  {
   "cell_type": "markdown",
   "metadata": {
    "id": "nX-SOwpOYule"
   },
   "source": [
    "### 1-1. 이진 탐색과 순차 탐색의 비교 "
   ]
  },
  {
   "cell_type": "markdown",
   "metadata": {
    "id": "-218VekgY07p"
   },
   "source": [
    "<img src=\"https://www.mathwarehouse.com/programming/images/binary-vs-linear-search/binary-and-linear-search-animations.gif\">"
   ]
  },
  {
   "cell_type": "markdown",
   "metadata": {
    "id": "-ny5nE38ZBbu"
   },
   "source": [
    "# 2. 분할 정복 알고리즘과 이진 탐색 "
   ]
  },
  {
   "cell_type": "markdown",
   "metadata": {
    "id": "hruIiL7rZdiL"
   },
   "source": [
    "* 분할 정복 (Divide Conquer) 알고리즘:\n",
    "  * divide: 문제를 하나 또는 둘 이상으로 나눔 \n",
    "  * conquer: 나눠진 문제가 충분히 작고, 해결이 가능하다면 해결하고, 그렇지 않다면 다시 나눔 "
   ]
  },
  {
   "cell_type": "markdown",
   "metadata": {
    "id": "HqWxjW8NZzja"
   },
   "source": [
    "* 이진 탐색\n",
    "  * divide: 리스트를 두개의 서브 리스트로 나눔\n",
    "  * conquer: \n",
    "    * 검색할 숫자 > 중간값: 뒷 부분의 서브 리스트에서 검색할 숫자를 찾음 \n",
    "    * 검색할 숫자 < 중간값: 앞 부분의 서브 리스트에서 검색할 숫자를 찾음 "
   ]
  },
  {
   "cell_type": "markdown",
   "metadata": {},
   "source": [
    "# 3. 동작 방식"
   ]
  },
  {
   "cell_type": "markdown",
   "metadata": {},
   "source": [
    "1. 배열의 중간 값을 가져온다.\n",
    "2. 중간 값과 검색 값을 비교한다.\n",
    "    * 중간값과 검색값이 같다면 종료\n",
    "    * 중간값 보다 검색값이 크다면 리스트의 오른쪽 탐색\n",
    "    * 중간값 보다 검색값이 작아면 리스트의 왼쪽을 탐색\n",
    "3. 값을 찾거나 간격이 비었을 때까지 2를 반복 "
   ]
  },
  {
   "cell_type": "markdown",
   "metadata": {},
   "source": [
    "# 4. 시간 복잡도"
   ]
  },
  {
   "cell_type": "markdown",
   "metadata": {},
   "source": [
    "* Best = O(1)\n",
    "* Average = O($logn$)\n",
    "* Worst = O($logn$)\n",
    "    * n개의 리스트를 매번 2로 나눠 1이 될때까지 비교연산을 k회 진행 \n",
    "      - <font size=4em>n X $\\frac { 1 }{ 2 }$ X $\\frac { 1 }{ 2 }$ X $\\frac { 1 }{ 2 }$ ... = 1</font>\n",
    "      - <font size=4em>n X $\\frac { 1 }{ 2 }^k$ = 1</font>\n",
    "      - <font size=4em>n = $2^k$ = $log_2 n$ = $log_2 2^k$</font>\n",
    "      - <font size=4em>$log_2 n$ = k</font>\n",
    "      - 빅 오 표기법으로는 k+1이 결국 최종 시간 복잡도임\n",
    "      - 결국 O($log_2 n$ + 1) 이며, 2와 1, 상수는 삭제 되므로 O($log n$)"
   ]
  },
  {
   "cell_type": "markdown",
   "metadata": {
    "id": "6uFGfXacaL3p"
   },
   "source": [
    "# 5. 알고리즘 구현 "
   ]
  },
  {
   "cell_type": "markdown",
   "metadata": {
    "id": "2Lau3uLhaTMg"
   },
   "source": [
    "* 이진 탐색은 데이터가 정렬되어 있는 상태에서 진행 \n",
    "* 데이터가 [2, 3, 8, 12, 20] 일 때\n",
    "  * binary_serach(data_list, find_data) \n",
    "    * data_list: 데이터 리스트\n",
    "    * find_data: 찾는 숫자 \n",
    "    * data_list의 중간값을 find_data와 비교해서 \n",
    "      * find_data < data_list의 중간값: 맨 앞부터 data_list의 중간까지에서 다시 fnd_data를 찾기 \n",
    "      * find_data > data_list의 중간값: data_list의 중간부터 맨 끝까지 다시 find_data를 찾기 \n",
    "      * find_data == data_list의 중간값:\n",
    "      return data_list 중간값 "
   ]
  },
  {
   "cell_type": "code",
   "execution_count": 21,
   "metadata": {
    "executionInfo": {
     "elapsed": 138,
     "status": "ok",
     "timestamp": 1685648777547,
     "user": {
      "displayName": "Yeji Kim",
      "userId": "13264010469112846795"
     },
     "user_tz": 420
    },
    "id": "40AORIDIbamB"
   },
   "outputs": [],
   "source": [
    "def binary_search(data, search):\n",
    "  \n",
    "  print(data)\n",
    "  # 방어코드\n",
    "  # when there is only one data point and equals to search \n",
    "  if len(data) == 1 and search == data[0]:\n",
    "    return True\n",
    "  # when there is only one data point and not equals to search  \n",
    "  if len(data) == 1 and search != data[0]:\n",
    "    return False\n",
    "  # when there is no data \n",
    "  if len(data) == 0:\n",
    "    return False \n",
    "\n",
    "  middle = int(len(data) / 2)\n",
    "  if data[middle] == search:\n",
    "    return True\n",
    "  else: \n",
    "    if search > data[middle]:\n",
    "      return binary_search(data[middle+1:], search)\n",
    "    else: \n",
    "      return binary_search(data[:middle], search)\n",
    "  "
   ]
  },
  {
   "cell_type": "code",
   "execution_count": 12,
   "metadata": {
    "colab": {
     "base_uri": "https://localhost:8080/"
    },
    "executionInfo": {
     "elapsed": 165,
     "status": "ok",
     "timestamp": 1685648137919,
     "user": {
      "displayName": "Yeji Kim",
      "userId": "13264010469112846795"
     },
     "user_tz": 420
    },
    "id": "axZCMwLGbuUh",
    "outputId": "59b4152a-7634-4066-9016-f26b4e611871"
   },
   "outputs": [
    {
     "data": {
      "text/plain": [
       "[16, 19, 32, 36, 42, 43, 55, 70, 95, 96]"
      ]
     },
     "execution_count": 12,
     "metadata": {},
     "output_type": "execute_result"
    }
   ],
   "source": [
    "import random\n",
    "\n",
    "random.seed(35)\n",
    "data_list = random.sample(range(100), 10)\n",
    "data_list.sort()\n",
    "data_list"
   ]
  },
  {
   "cell_type": "code",
   "execution_count": 22,
   "metadata": {
    "colab": {
     "base_uri": "https://localhost:8080/"
    },
    "executionInfo": {
     "elapsed": 190,
     "status": "ok",
     "timestamp": 1685648781822,
     "user": {
      "displayName": "Yeji Kim",
      "userId": "13264010469112846795"
     },
     "user_tz": 420
    },
    "id": "U-1Ha4Lrb1gI",
    "outputId": "31a84f36-dbe0-4914-f04a-d9f23a2beeca"
   },
   "outputs": [
    {
     "name": "stdout",
     "output_type": "stream",
     "text": [
      "[16, 19, 32, 36, 42, 43, 55, 70, 95, 96]\n",
      "[55, 70, 95, 96]\n",
      "[96]\n",
      "[16, 19, 32, 36, 42, 43, 55, 70, 95, 96]\n",
      "[16, 19, 32, 36, 42]\n",
      "[16, 19]\n"
     ]
    },
    {
     "data": {
      "text/plain": [
       "(True, True)"
      ]
     },
     "execution_count": 22,
     "metadata": {},
     "output_type": "execute_result"
    }
   ],
   "source": [
    "binary_search(data_list, 96), binary_search(data_list, 19)"
   ]
  },
  {
   "cell_type": "code",
   "execution_count": 23,
   "metadata": {
    "colab": {
     "base_uri": "https://localhost:8080/"
    },
    "executionInfo": {
     "elapsed": 162,
     "status": "ok",
     "timestamp": 1685648793183,
     "user": {
      "displayName": "Yeji Kim",
      "userId": "13264010469112846795"
     },
     "user_tz": 420
    },
    "id": "Lcri35pzdGxV",
    "outputId": "9b676788-1b6a-4d86-9308-1d20bb02ec05"
   },
   "outputs": [
    {
     "name": "stdout",
     "output_type": "stream",
     "text": [
      "[16, 19, 32, 36, 42, 43, 55, 70, 95, 96]\n",
      "[16, 19, 32, 36, 42]\n",
      "[16, 19]\n",
      "[16]\n"
     ]
    },
    {
     "data": {
      "text/plain": [
       "False"
      ]
     },
     "execution_count": 23,
     "metadata": {},
     "output_type": "execute_result"
    }
   ],
   "source": [
    "binary_search(data_list, 5)"
   ]
  },
  {
   "cell_type": "markdown",
   "metadata": {
    "id": "NXbfW2BfdyY6"
   },
   "source": [
    "# 6. 예상 질문"
   ]
  },
  {
   "cell_type": "markdown",
   "metadata": {
    "id": "0tYizCDjgzsS"
   },
   "source": [
    "이진 탐색 알고리즘은 어떻게 동작하나요?\n",
    "\n",
    "> 이진 탐색은 정렬된 배열에서 중간 값을 선택하고 찾고자 하는 값과 비교합니다. 만약 중간 값이 찾고자 하는 값과 같다면 찾았다고 판단하고, 그렇지 않은 경우 찾고자 하는 값이 중간 값보다 작으면 왼쪽 반 배열을, 크면 오른쪽 반 배열을 대상으로 동일한 과정을 반복합니다. 이를 반복하여 찾고자 하는 값을 찾거나 배열을 모두 확인할 때까지 진행합니다."
   ]
  },
  {
   "cell_type": "markdown",
   "metadata": {},
   "source": [
    "이진 탐색의 시간 복잡도는 어떻게 되나요?\n",
    "\n",
    "> 이진 탐색의 시간 복잡도는 O(log n)입니다. 이는 배열을 반으로 나누어가며 탐색하기 때문에 탐색 범위를 로그 시간에 줄일 수 있습니다. 이는 배열이 정렬되어 있어야 한다는 전제 조건이 필요하지만, 정렬된 데이터에서 빠른 검색을 제공합니다."
   ]
  },
  {
   "cell_type": "markdown",
   "metadata": {},
   "source": [
    "이진 탐색과 선형 탐색의 차이는 무엇인가요?\n",
    "\n",
    "> 이진 탐색은 정렬된 배열에서 중간 값을 활용하여 탐색 범위를 반으로 줄여가며 효율적으로 탐색하는 반면, 선형 탐색은 배열을 처음부터 끝까지 하나씩 순차적으로 확인하는 방식입니다. 이진 탐색은 O(log n)의 시간 복잡도를 가지며 효율적으로 동작하는 반면, 선형 탐색은 O(n)의 시간 복잡도를 가지며 비교적 느립니다."
   ]
  },
  {
   "cell_type": "code",
   "execution_count": null,
   "metadata": {},
   "outputs": [],
   "source": []
  }
 ],
 "metadata": {
  "colab": {
   "authorship_tag": "ABX9TyPNVE+1v0AeYfrwpOlkpWCP",
   "provenance": []
  },
  "kernelspec": {
   "display_name": "Python 3 (ipykernel)",
   "language": "python",
   "name": "python3"
  },
  "language_info": {
   "codemirror_mode": {
    "name": "ipython",
    "version": 3
   },
   "file_extension": ".py",
   "mimetype": "text/x-python",
   "name": "python",
   "nbconvert_exporter": "python",
   "pygments_lexer": "ipython3",
   "version": "3.10.11"
  }
 },
 "nbformat": 4,
 "nbformat_minor": 4
}
